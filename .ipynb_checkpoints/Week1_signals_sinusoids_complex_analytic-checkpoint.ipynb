{
 "cells": [
  {
   "cell_type": "markdown",
   "metadata": {},
   "source": [
    "# 1. Intoduction to radars and radar signals"
   ]
  },
  {
   "cell_type": "markdown",
   "metadata": {},
   "source": [
    "\n",
    "<p> Radars (for earth and planetary science applications) typically work by transmitting electromagnetic (EM) signals in the microwave or radio wavelength towards a planet’s surface and recording the scattered signal that make it back to the antenna. The raw signals recorded by a radar almost always need to be processed in some way to generate a useful data product. The intended objective of these notebooks is to help people 1) learn and get comfortable with some of the tools and terminology that are integral to processing radar signals, and 2) understand how many of the end user radar datasets that we work with on a daily basis came to be. </p>\n",
    "\n",
    "<p> The signal transmitted by different radar instruments that we are familiar with have different waveforms. The Arecibo Observatory transmits coded waves (ptys549 lecture noes); SHARAD and MARSIS transmit a chirp (Croci et al., 2011; Jordan et al., 2009); the Magellan radar also used a chirped waveform (Johnson et al., 1991); RIMFAX transmits a frequency modulated continuous wave (FMCW). A fundamental waveform type that acts as a building block for more general radar system signals (like the ones mentioned above) is <b> the sinusoid </b>. For the rest of the notebook today, we will work with sinusoids to learn some introductory properties of signals. </p>"
   ]
  },
  {
   "cell_type": "markdown",
   "metadata": {},
   "source": [
    "## 1.1 Sinusoids"
   ]
  },
  {
   "cell_type": "markdown",
   "metadata": {},
   "source": [
    "Sinusoids can be described by <b> amplitude, frequency, and phase </b>. The mathematical representation of a sinusoid is, \n",
    "\n",
    "$$\\begin{equation}\\tag{2} s(t) = A\\cdot sin(2\\pi ft + \\phi)\\end{equation}$$\n",
    "$$\\begin{equation}\\tag{1} s(t) = A\\cdot sin(\\omega t + \\phi)\\end{equation}$$ \n",
    "\n",
    "Here $A$ is the amplitude, $f$ is the frequency (in Hz), $\\phi$ is the phase (in radians), $\\omega = 2\\pi f$ is the angular frequency (in radians/second). The frequency $f$ of a sinusoid is the inverse of the period. Period measures the number of seconds needed to complete one cycle of the sinusoid. Frequency, therefore, equals the number of cycles of a sinusoid per second (Hz = number of cycles/second). \n",
    "\n",
    "Run the code cell below to plot a sinusoid with $A=1$ and $f = 5 Hz$ (5 cycles per second)."
   ]
  },
  {
   "cell_type": "code",
   "execution_count": null,
   "metadata": {},
   "outputs": [],
   "source": [
    "# Run this before any other cells\n",
    "import numpy as np\n",
    "import matplotlib.pyplot as plt\n",
    "import time\n",
    "from sigUtil import *"
   ]
  },
  {
   "cell_type": "code",
   "execution_count": null,
   "metadata": {},
   "outputs": [],
   "source": [
    "tend = 1\n",
    "fs = 500\n",
    "\n",
    "A = 1\n",
    "f = 5\n",
    "\n",
    "t_signal = arangeT(0,tend,fs)\n",
    "signal = A * np.sin(2 * np.pi * f * t_signal)\n",
    "\n",
    "fig=plt.figure(figsize=(15, 8))\n",
    "plt.plot(t_signal, signal, 'g-')   # (x,y,style)\n",
    "plt.xlabel(\"Time (s)\")\n",
    "plt.ylabel(\"Amplitude\")\n",
    "plt.show()"
   ]
  },
  {
   "cell_type": "markdown",
   "metadata": {},
   "source": [
    "Run the code cell below to plot an additional sinusoid with lower amplitude $A=0.7$, frequency $f=2 Hz$, and phase of $\\phi = 45 ^{\\circ}$."
   ]
  },
  {
   "cell_type": "code",
   "execution_count": null,
   "metadata": {},
   "outputs": [],
   "source": [
    "tend = 1\n",
    "fs = 500\n",
    "\n",
    "A = 1\n",
    "f = 5\n",
    "\n",
    "t_signal = arangeT(0,tend,fs)\n",
    "signal = A * np.sin(2 * np.pi * f * t_signal)\n",
    "\n",
    "signal2 = 0.7 * np.sin(2 * np.pi * 2 * t_signal + np.pi/4)\n",
    "\n",
    "fig=plt.figure(figsize=(15, 8))\n",
    "plt.plot(t_signal, signal, 'g-')   # (x,y,style)\n",
    "plt.plot(t_signal, signal2, 'k-')   # (x,y,style)\n",
    "\n",
    "plt.axhline(1, color =\"g\", linestyle =\"--\", label=\"A = 1\")\n",
    "plt.axhline(-1, color =\"g\", linestyle =\"--\")\n",
    "\n",
    "plt.axhline(0.7, color =\"k\", linestyle =\"--\", label=\"A = 0.7\")\n",
    "plt.axhline(-0.7, color =\"k\", linestyle =\"--\")\n",
    "\n",
    "plt.xlabel(\"Time (s)\")\n",
    "plt.ylabel(\"Amplitude\")\n",
    "plt.legend()\n",
    "plt.show()"
   ]
  },
  {
   "cell_type": "markdown",
   "metadata": {},
   "source": [
    "## 1.1.2 Continuous and discrete-time signals"
   ]
  },
  {
   "cell_type": "markdown",
   "metadata": {},
   "source": [
    "<p> Signals, including sinusoids, can either be <b> continuous or discrete-time </b>. A continuous signal, like the name suggests, is a continuous function of time defined on the real axis. It will have a value at any instance of time. Such signals are also called analog signals. </p>\n",
    "\n",
    "<p> By nature of being on a computer, all signals in this lab are digital or discrete-time (as opposed to analog). This means they are not continuous functions, but rather a set of discrete points stored in the computer. The green line in the previous code cell is also digital, but it appears continuous because of the way in which it is plotted. The plot generated by the code cell below should help visualize this difference. The green dots below are digital \"samples\" of the signal with $f = 5 Hz$ from the previous code cells. For instance, when a signal is passed through an analog to digital converter, this is how the system might sample and store a digital version of the analog signal. We will go over proper ways to sample an analog signal next week.</p>"
   ]
  },
  {
   "cell_type": "code",
   "execution_count": null,
   "metadata": {},
   "outputs": [],
   "source": [
    "tend = 1\n",
    "fs = 500\n",
    "\n",
    "A = 1\n",
    "f = 5\n",
    "\n",
    "t_signal = arangeT(0,tend,fs)\n",
    "signal = A * np.sin(2 * np.pi * f * t_signal)\n",
    "\n",
    "fig=plt.figure(figsize=(15, 8))\n",
    "plt.plot(t_signal, signal, 'go')   # (x,y,style)\n",
    "plt.xlabel(\"Time (s)\")\n",
    "plt.ylabel(\"Amplitude\")\n",
    "plt.show()"
   ]
  },
  {
   "cell_type": "markdown",
   "metadata": {},
   "source": [
    "# 2. Complex (or quadrature) signals "
   ]
  },
  {
   "cell_type": "markdown",
   "metadata": {},
   "source": [
    "<p> Complex signals or quadrature signals are founded on the idea of complex numbers. <b> A complex signal is a two-dimensional signal whose value at some instant in time can be specified by a single complex number having two parts </b>; what we call the real part and the imaginary part. Complex signal processing is used widely (in coherent radar systems like InSAR experiments, antenna beamforming applications, pulse compression, etc.), and complex signals are necessary to describe the processing steps that takes place in modern digital systems. We will start with a brief review on the notation of complex numbers. </p>\n",
    "\n",
    "Complex numbers are numbers that have both a real and an imaginary component, and are often represented in a form like $4+2j$, where $4$ is the real component and $2j$ is the imaginary component. Here, $j$ is used to represent the square root of -1. It is also commonly represented with $i$ in but for now we will stick with $j$ since that is how it is represented in Python. Complex numbers are just another type of number, like integers, real numbers, and irrational numbers. Just like we couldn't solve $4x=1$ with only integers (the reals are necessary), $x^2=-4$ cannot be solved without imaginary numbers ($x=2j$). \n",
    "\n",
    "\n",
    "<p> Recall Euler's identity: \n",
    "\n",
    "$$e^{j\\omega t} = cos(\\omega t) + j\\cdot sin(\\omega t)$$\n",
    "\n",
    "A derivation can be found [here](https://www.dsprelated.com/freebooks/mdft/Proof_Euler_s_Identity.html). There are several important implications of this identity. One helps to understand the results of a Fourier Transform of a real signal. If the sign of $\\omega$ is reversed (a negative angular frequency), then the expression becomes:\n",
    "\n",
    "$$e^{-j\\omega t} = cos(\\omega t) - j\\cdot sin(\\omega t)$$\n",
    "\n",
    "since $cos(-\\omega t)=cos(\\omega t)$ and $sin(-\\omega t)=-sin(\\omega t)$. Adding the positive and negative frequency expressions yields:\n",
    "\n",
    "$$cos(\\omega t) = \\dfrac{e^{j\\omega t} + e^{-j\\omega t}}{2}$$\n",
    "\n",
    "This means that a real valued cosine function of frequency $\\omega$ is is the sum of two complex sinusoids, one at frequency $\\omega$ and the other at frequency $-\\omega$. In fact, <b> any real valued signal is a summation of equal values complex sinusoids at positive and negative frequencies </b>. Implementations of modern-day digital systems are based on this property </p>\n",
    "\n",
    "<p> But what is a negative frequency? Plotted in complex space (so cosine values on x axis and sine values on y axis), <b> a sinusoid with negative frequency rotates in an opposite sense than it's positive frequency counterpart. </b>\n",
    "\n",
    "If the gifs make you dizzy just double click either of the images to turn them back into markdown text. </p>"
   ]
  },
  {
   "cell_type": "markdown",
   "metadata": {},
   "source": [
    "![Positive 1/2 Hz](./gifs/pos1Hz.gif) ![Negative 1/2 Hz](./gifs/neg1Hz.gif)"
   ]
  },
  {
   "cell_type": "markdown",
   "metadata": {},
   "source": [
    "<p> In quadrature processing, <b> the real part of the spectrum is called the in-phase component and the imaginary part of the spectrum is called the quadrature component. </b> As mentioned above, real signals always have positive and negative frequency spectral components. For any real signal, the positive and negative frequency components of its in-phase (real) spectrum always have even symmetry around the zero-frequency point. That is, the in-phase part's positive and negative frequency components are mirror images of each other. Visualizing the signal in the frequency domain will make this clearer. </p>\n"
   ]
  },
  {
   "cell_type": "markdown",
   "metadata": {},
   "source": [
    "# 3. Discrete Fourier Transform & the frequency domain"
   ]
  },
  {
   "cell_type": "markdown",
   "metadata": {},
   "source": [
    "## 3.1 Basics"
   ]
  },
  {
   "cell_type": "markdown",
   "metadata": {},
   "source": [
    "<p> A Fourier transform is a mathematical transform that decomposes functions depending on time into functions depending on frequency (Wikipedia). We will look at Fourier transform and its applications in more detail in the coming weeks. For now, let us just focus on representing the given signal in frequency domain which is done via Fast Fourier Transform (FFT). Python's Numpy library has a handy set of <a href = \"https://numpy.org/doc/stable/reference/routines.fft.html\"> FFT functionalities </a> which we will make use of today. </p>\n",
    "\n",
    "<p> To understand positive and negative frequencies, we will take FFT of a $f=100 Hz$ signal. Run the code cell below to see what the frequency components look like. </p>"
   ]
  },
  {
   "cell_type": "code",
   "execution_count": null,
   "metadata": {},
   "outputs": [],
   "source": [
    "tend = 1\n",
    "fs = 500\n",
    "\n",
    "A = 1\n",
    "f = 100\n",
    "\n",
    "t_x1 = arangeT(0,tend,fs)\n",
    "x1 = A * np.sin(2 * np.pi * f * t_x1)\n",
    "\n",
    "X1 = np.fft.fft(x1, len(t_x1))\n",
    "\n",
    "# Get array of freqs represented in the fft\n",
    "f = np.fft.fftfreq(len(t_x1), d=1.0/fs)\n",
    "\n",
    "# fftshift puts zero freq in the middle\n",
    "X1 = np.fft.fftshift(X1)\n",
    "f = np.fft.fftshift(f)\n",
    "\n",
    "# Make plot\n",
    "plt.figure(figsize=(15,8))\n",
    "plt.plot(f,np.abs(X1)/len(t_x1))\n",
    "plt.xlabel(\"Frequency (Hz)\", fontsize=14)\n",
    "plt.ylabel(\"Magnitude\", fontsize=14)\n",
    "plt.show()\n"
   ]
  },
  {
   "cell_type": "markdown",
   "metadata": {},
   "source": [
    "<p> We see that the real valued signal with a frequency of 100 Hz is composed of equal magnitude positive and negative frequency components at 100 Hz as indicated by the peaks i.e., <b> Fourier Transform of a real-valued signal is complex-symmetric. </b> </p> \n",
    "<p>In the above code cell, the FFT results have been frequency shifted and the magnitude has been normalized before plotting. This is one of the many ways to do an FFT plot in python. We will look at other ways of plotting in a couple of weeks. </p>"
   ]
  },
  {
   "cell_type": "markdown",
   "metadata": {},
   "source": [
    "# 4. Quadrature mixing or complex mixing (exercise included)"
   ]
  },
  {
   "cell_type": "markdown",
   "metadata": {},
   "source": [
    "The concepts discussed above, specifically quadrature signals, will aid in understanding another concept, quadrature mixing or complex mixing. Mixing is a critical part of transmission and receiving in many radar systems, and is usually performed in hardware as opposed to in software as we are doing now. Multiplying two complex signals in the time domain \"mixes\" them and results in a signal that is the sum of their frequencies. So, multiplying two 100 Hz signals together produces a 200 Hz signal. See the example in the code block below. Notice how the signal $x0$ is acomplex valued function defined in the polar form, incontrast to the real valued sinusoids we defined in the previous cells. 9((\n",
    "Quadrature mixing finds many applications in radar signal processing. Some notable instances include basebanding a signal (moving the central frequency to 0 Hz or to very low values), and to help with sampling high frequency signals."
   ]
  },
  {
   "cell_type": "code",
   "execution_count": null,
   "metadata": {},
   "outputs": [],
   "source": [
    "# Generate signals\n",
    "fs = 1e3\n",
    "t = arangeT(0,1,fs) # 0 to 1s at 1kHz\n",
    "x0 = np.exp(2*np.pi*1j*100*t) # +100 Hz complex signal\n",
    "x1 = x0*x0\n",
    "\n",
    "# Take fft of x0 and x1\n",
    "X0 = np.fft.fft(x0)\n",
    "X1 = np.fft.fft(x1)\n",
    "\n",
    "# Get array of freqs represented in the fft\n",
    "f = np.fft.fftfreq(len(t), d=1.0/fs)\n",
    "\n",
    "# fftshift puts zero freq in the middle\n",
    "X0 = np.fft.fftshift(X0)\n",
    "X1 = np.fft.fftshift(X1)\n",
    "f = np.fft.fftshift(f)\n",
    "\n",
    "# Make plot\n",
    "plt.figure(figsize=(10,6))\n",
    "plt.plot(f,np.abs(X0)/len(t),'b',f,np.abs(X1)/len(t),'r')\n",
    "plt.xlabel(\"Frequency (Hz)\", fontsize=14)\n",
    "plt.ylabel(\"Magnitude\", fontsize=14)\n",
    "plt.legend([\"X0\",\"X1\"])\n",
    "plt.show()"
   ]
  },
  {
   "cell_type": "markdown",
   "metadata": {},
   "source": [
    "**Plot the FFT of a -300 Hz complex signal, generated from mixing a -400 Hz signal and a 100 Hz signal. Feel free to modify the previous code cell to do this.**"
   ]
  },
  {
   "cell_type": "code",
   "execution_count": null,
   "metadata": {},
   "outputs": [],
   "source": [
    "## your code ##\n",
    "##\n",
    "##\n",
    "##\n",
    "##"
   ]
  },
  {
   "cell_type": "markdown",
   "metadata": {},
   "source": [
    "# 5. Analytic signals and Hilbert transform (exercise included)"
   ]
  },
  {
   "cell_type": "markdown",
   "metadata": {},
   "source": [
    "<p> We saw earlier that any real valued signal is a summation of equal values complex sinusoids at positive and negative frequencies. But what happens if we remove the redundant negative frequencies? We end up with <b> an analytic signal which is a complex-valued function that does not have any negative frequency components; </b> the spectral content of the original real-valued signal. The basic idea is that the negative frequency components of the Fourier transform (or spectrum) of a real-valued function are redundant, due to the Hermitian symmetry of such a spectrum. These negative frequency components can be discarded with no loss of information, provided one is willing to deal with a complex-valued function instead. </p>\n",
    "    \n",
    "<p> Since the spectral content is preserved in an analytic signal, it turns out that the real part of the analytic signal in time domain is essentially the original signal itself; the imaginary part is a 90 degree phase shifted version of it. Hence, <b> an important property of an analytic signal is that its real and imaginary components are orthogonal. </b> </p>"
   ]
  },
  {
   "cell_type": "markdown",
   "metadata": {},
   "source": [
    "<p> To calculate the analytic signal starting with time series x:\n",
    "    <ol>\n",
    "        <li> Take the DFT of x </li>\n",
    "        <li> Set all negative frequency components equal to zero </li>\n",
    "        <li> Multiply all positive frequency components by 2 except for the Nyquist frequency. Also leave zero frequency untouched. </li>\n",
    "        <li> Compute the inverse DFT - this is the analytic signal. </li>\n",
    "    </ol>\n",
    "         \n",
    "</p>\n",
    "<p> We can also do this operation in the time domain using a <b> Hilbert transform </b>. The Hilbert transform of a real function $z_{r}$ yields the imgimary counterpart $z_{i}$, which together make up the analytic signal $z = z_{r} + j z_{i}$.</p>"
   ]
  },
  {
   "cell_type": "markdown",
   "metadata": {},
   "source": [
    "## 5.1 Instantaneous amplitude and frequency of an analytic signal"
   ]
  },
  {
   "cell_type": "markdown",
   "metadata": {},
   "source": [
    "A main advantage of analytic signals is that while real values signals have (only) an amplitude for each point in time, the analytical representation generates a rotating vector in the complex plane. A useful consequence of this is that the analytical representation provides instantaneous values for quantities (amplitude, power, phase). One of them is the instantaneous amplitude of the signal - this is simply equal to the modulus of each sample, i.e. $a=\\sqrt{x_r^2+x_i^2}$ where $x_r$ is the real part of the sample and $x_i$ is the imaginary part of the sample. Another is the instantaneous frequency, which is a little more involved. We cannot get such instanatneous values from the original sinusoid. The amplitude of the cosine varies all the time, and to compute the power, we need to integrate over a number of samples.\n",
    "\n",
    "To calculate the instantaneous frequency one must:\n",
    "\n",
    "1. Find the instantaneous phase - this is the complex phase angle of each sample (np.angle does this)\n",
    "2. Unwrap the instantaneous phase (np.unwrap does this)\n",
    "3. Find the rate of change of the phase (np.gradient does this) and divide it by (2*$\\pi$*dt) where dt is the sampling interval.\n",
    "\n",
    "Run the code cell below to compute the instantaneous amplitude and frequency of a chirped signal. The real part of your analytic signal will not be exactly the same as the original signal. Differences on the order of $10^{-16}$ are expected. The instantaneous frequency plot will have some funk going on at the left and right sides but the trend should be apparent."
   ]
  },
  {
   "cell_type": "code",
   "execution_count": null,
   "metadata": {},
   "outputs": [],
   "source": [
    "# Generate a chirp (linear frequency modulation) and apply amplitude modulation\n",
    "fs = 1e3\n",
    "fnyq = fs / 2\n",
    "x = chirp(.5, 25, 75, 0, fs)\n",
    "t = arangeN(len(x), fs)\n",
    "x = x * (np.sin(2*np.pi*15*t)+2)\n",
    "\n",
    "# t = arangeT(0,1,fs) \n",
    "# x = np.sin(2 * np.pi * 10 * t) \n",
    "\n",
    "# Generate the analytic signal for x\n",
    "X = np.fft.fft(x)\n",
    "\n",
    "# FFT frequencies\n",
    "freq = np.fft.fftfreq(len(t), 1.0/fs)\n",
    "\n",
    "# Negative frequencies sans Nquist\n",
    "nminus=np.where( (freq<0) & (np.abs(freq)!=fnyq) )[0]\n",
    "X[nminus[0]:nminus[-1]] = 0\n",
    "\n",
    "# Positive frequencies sans Nuqyist\n",
    "nplus = np.where( (freq>0) & (np.abs(freq)!=fnyq) )[0]\n",
    "X[nplus[0]:nplus[-1]] *= 2\n",
    "\n",
    "# Inverse FFT - analytical signal\n",
    "xA = np.fft.ifft(X)\n",
    "\n",
    "# Plot the instantaneous amplitude and frequency\n",
    "xA_amp = np.absolute(xA)\n",
    "plt.figure(figsize=(18,8))\n",
    "plt.plot(t*fs, xA, t*fs, xA_amp)\n",
    "plt.title('Analytic signal amplitude')\n",
    "plt.xlabel(\"Samples\")\n",
    "plt.ylabel(\"Magnitude\")\n",
    "plt.show()\n",
    "\n",
    "xA_freq = np.gradient(np.unwrap(np.angle(xA)))/(2*np.pi*(1/fs))\n",
    "plt.figure(figsize=(18,8))\n",
    "plt.plot(t*fs, xA_freq)\n",
    "plt.title('Analytic signal frequency')\n",
    "plt.xlabel(\"Samples\")\n",
    "plt.ylabel(\"Frequency (Hz)\")\n",
    "plt.show()"
   ]
  },
  {
   "cell_type": "markdown",
   "metadata": {},
   "source": [
    "**Compute the analytic signal for a real-valued signal with 5 Hz frequency. Refer to the initial code blocks for how to generate this signal. Plot the 5 MHz signal, the real part of the analytic signal, and the imaginary part of the analytic signal as a function of time. You can plot them all on the same plot or make two rows of subplots for the real valued signal and the analytic signal, respectively. How do the real and imaginary parts of the analytic signal compare to the original signal?**"
   ]
  },
  {
   "cell_type": "code",
   "execution_count": null,
   "metadata": {},
   "outputs": [],
   "source": [
    "## your code ##\n",
    "\n",
    "##\n",
    "##\n",
    "##"
   ]
  },
  {
   "cell_type": "markdown",
   "metadata": {},
   "source": [
    "## References\n",
    "\n",
    "<ol>\n",
    "    <li> PTYS 549 homework notebook prepared by Michael Chrsitoffersen. </li>\n",
    "    <li> PTYS 549 lecture slides prepared by Lynn Carter. </li>\n",
    "    <li> Magellan imaging radar mission to Venus.</li>\n",
    "    <li> The Mars express MARSIS sounder instrument. </li>\n",
    "    <li> The shallow RADar (SHARAD) Onboard the NASA MRO mission. </li>\n",
    "    <li> RIMFAX: A GPR for the Mars 2020 rover mission. </li>\n",
    "    <li> https://www.researchgate.net/publication/265198641_Quadrature_Signals_Complex_But_Not_Complicated </li>\n",
    "    </ol>\n",
    "    "
   ]
  },
  {
   "cell_type": "code",
   "execution_count": null,
   "metadata": {},
   "outputs": [],
   "source": []
  }
 ],
 "metadata": {
  "kernelspec": {
   "display_name": "Python 3",
   "language": "python",
   "name": "python3"
  },
  "language_info": {
   "codemirror_mode": {
    "name": "ipython",
    "version": 3
   },
   "file_extension": ".py",
   "mimetype": "text/x-python",
   "name": "python",
   "nbconvert_exporter": "python",
   "pygments_lexer": "ipython3",
   "version": "3.7.4"
  }
 },
 "nbformat": 4,
 "nbformat_minor": 4
}
