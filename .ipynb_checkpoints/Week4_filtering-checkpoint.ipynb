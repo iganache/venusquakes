{
 "cells": [
  {
   "cell_type": "markdown",
   "metadata": {},
   "source": [
    "# 4. Filtering\n",
    "\n",
    "## 4.1 Linear systems (+ LTIs)\n",
    "Linearity and time invariance are two concepts we skipped so far but an understanding of linear time-invariant (LTIs) systems is necessary for how filters are implemented and why they work. The principle is very simple. We consider a system to be linear if it follows homogeneity and additivity. Homogeneity is the property when an amplitude change in the input signal causes an exactly equal amount of amplitude change in the output signal. Suppose and input signal $x(t)$ produces an output signal $y(n)$, then the input $k.x(t)$ results in the output $k.y(t)$. A system is said to be additive if an input that is the addition of two inputs $x_{1}(t)$ and $x_{2}(t)$, results in an output that is the addition of their individual outputs, $y_{1}(t)+y_{2}(t)$. In other words, there are no weird mixed, multiplicative terms in the output. A system is considered shift invariant or time invariant if the input signal $x(t)=f(t−a)$ produces output signal $y(t−a)$. The LTI principle is important because it lays the groundwork for how we combine two signals (by convolution).\n",
    "\n",
    "\n",
    "<hr>\n",
    "\n",
    "## 4.2 Convolution \n",
    "\n",
    "Convolution is a mathematical operation, represented byt the operator $*$. The convolution of two functions $f(n)$ of length $n$ and $g(m)$ of length $m$ is given by\n",
    "\n",
    "$$(f*g)(i) = \\sum_{g=1}^{m} g)j) . f(i-j+m/2)$$\n",
    "\n",
    "The $*$ sign is used to represent convolution operation in math (be cautious because this is the notation used for multiplication in programming. Fundamentally, convolution is a sequence of multiplication, addition, and translation operations. Depending on whether we're dealing with 1D arrays (signals) or 2D arrays (images), convolution is performed in 1D or 2D, respectively. One way to think of this operation is that we’re sliding the kernel over the input image. For each position of the kernel, we multiply the overlapping values of the kernel and image together and add up the results. This sum of products will be the value of the output image at the point in the input image where the kernel is centered. It is sort of a complicated operation. A neat trick for convolving two functions is to do in it in the frequency domain. <b> Convolution of two signals in time (or spatial) domain yields the same result as multiplying the two functions in the frequency domain. </b> Multiplication is a lot simpler and easy to do (computationally and also in our heads), so frequency domain multiplication is often used in the place of convolution operations in digital systems.\n",
    "\n",
    "\n",
    "### 4.2.1 Delta functions, impulse response, and frequency response\n",
    "\n",
    "A few more definitions before we get down to filtering.\n",
    "\n",
    "<b> Impulse function. </b> A signal with n samples in which only one of the samples is non-zero and all other samples are zero. The delta function is a normalized impulse, that is, sample number zero has a value of one, while, all other samples have a value of zero. Impulse functions are usually denoted by the variable $h$.\n",
    "\n",
    "In the code cell below is a 3 Hz sinusoidal wave. An impulse function can be created by making all samples of the but one zero. We are doing this by making all samples but the 25th zero in the example below. One can do this with any of the 60 samples. That is, any signal with n samples can be broken down into n different impulse signals. This is called impulse decomposition and is less widely used in comparison to the Fourier (or frequency) decomposition. We are not going to delve too much into impulse decomposition; this was just to give an idea of what impulses are and one way to obtain an impulse."
   ]
  },
  {
   "cell_type": "code",
   "execution_count": null,
   "metadata": {},
   "outputs": [],
   "source": [
    "# Run this before any other cells\n",
    "import numpy as np\n",
    "import matplotlib.pyplot as plt\n",
    "from sigUtil import *\n",
    "import scipy.signal as signal"
   ]
  },
  {
   "cell_type": "code",
   "execution_count": null,
   "metadata": {},
   "outputs": [],
   "source": [
    "## sinusoidal signal\n",
    "fs_sine = 60\n",
    "t_sine = arangeT(0,1,fs_sine)\n",
    "s_sine = 2*np.sin(2*np.pi*3*t_sine)\n",
    "\n",
    "imp = np.zeros_like(t_sine)\n",
    "imp[25] = s_sine[25]\n",
    "\n",
    "fig = plt.figure(figsize=(7,5))\n",
    "plt.plot(t_sine, s_sine, 'green')\n",
    "plt.scatter(t_sine, imp)"
   ]
  },
  {
   "cell_type": "markdown",
   "metadata": {},
   "source": [
    "<b> Delta function </b>. A delta function is a normalized impulse, that is, sample number zero has a value of one and all other samples equal zero. Delta function is also referred to as unit impulse. Any impulse signal can be formed using a delta function via scaling and shifting the delta function. For example, the impulse function in the above code cell can be made by scaling a delta function by 2 and shifting it by 25. As the name suggests, delta functions are represented by the symbol $\\delta$.\n",
    "\n",
    "<b> Impulse response. </b> As the name suggests, the impulse response is the signal that exits a system when a delta function (unit impulse) is the input. It describes how a linear system modifies an input signal fed to it (in the time domain). If two systems are different in any way, they will have different impulse responses.  In the above code cell, blue scatter plot is the impulse response of a system that amplifies a signal 2x times and shift by (t-25). If the system being considered is a filter, the impulse response is called the filter kernel, the convolution kernel, or simply, the kernel. In image processing, the impulse response is called the point spread function. \n",
    "\n",
    "<b> Frequency response. </b> A linear system can also be completely described by how it changes the amplitude and phase of cosine waves passing through it. This information is called the system's frequency response. Since both the impulse response and the frequency response contain complete information about the system, there is a 1:1 relation between the two. A system's frequency response is the Fourier Transform of its impulse response.\n",
    "\n",
    "Remember convolution in the time domain corresponds to multiplication in the frequency domain? Therefore, if we compare system operations in the time and frequency domains: in the time domain, an input signal is convolved with an impulse response, resulting in the output signal, that is, $x(t)*h(t) = y(t)$. In the frequency domain, an input spectrum is multiplied by a frequency response, resulting in the output spectrum, that is, $X(f)*H(f) = Y(f)$. As usual, the DFT and the Inverse DFT relate the signals in the two domains.  \n",
    "\n",
    "<hr>"
   ]
  },
  {
   "cell_type": "markdown",
   "metadata": {},
   "source": [
    "## 4.3 Filtering in the time and frequency domain\n",
    "Digital filters are used for two general purposes: (1) separation of signals that have been combined, and (2) restoration of signals that have been distorted in some way. There are many ways to represent a digital filter. We already looked at one of them: the impulse response of the filter or the filter kernel. A couple of other ways to represent a digital filter is either via the filter's polynomial equation, or by using its transfer function. To be quite honest, my knowledge with these concepts is superficial, so there is not a detailed explanation of these concepts in this notebook. I encourage looking up the references for these notebooks to get a better understanding of these terms. Also, filter kernels intuitively make more sense to me (and also to others, I hope), in comparison to transfer functions or polynomials.\n",
    "\n",
    "So how do we actually implement use a digital filter to separate out signals or to remove noise or such? The most straightforward way to implement a digital filter is by <b> convolving the input signal with the digital filter's impulse response or filter kernel, or by multiplying the Fourier transform of the input signal by the frequency response of the digital filter </b>. The former is the time domain way of filtering, and the latter is the frequency domain. \n",
    "\n",
    "Now is a good time to introduce some terms and also talk about a few types of linear filters.\n",
    "\n",
    "### 4.3.1 Moving average and recursive filters\n",
    "The simplest type of linear filter is a moving average (MA) filter. An MA filter implemented by convolution involves weighting the samples in the input (by some constant filter kernel coefficients), and adding them together to compute each sample in the output. Below is an example of how an output sample at time $t$ is computed for a moving average filter with three coefficients.\n",
    "$$ y_t = b_{0}x_{t-1} + b_{1}x_{t} + b_{2}x_{t+1}$$\n",
    "\n",
    "Recursive filters are an extension of MA filters, using previously calculated values from the output, besides points from the input (hence termed \"recursive\"). Instead of using a filter kernel, recursive filters are defined by a set of recursion coefficients.\n",
    "$$y_t = b_{1}x_{t} + a_{0}y_{t-1}$$\n",
    "\n",
    "It is also possible to a combination of recursive and MA filters. The above example is a filter with a recursion order of 1 and a moving average order of 0. To combine both filters, one just needs to have non-zero order coefficients for both recursive and MA terms. An example of such a combination filter with recursion order of $n$ and moving average order of $m$ is,\n",
    "\n",
    "$$ a_{0}y_{t} = b_{0}x_{t} + b_{1}x_{t-1} +...+ b_{m}x_{t-m} + a_{1}y_{t-1} + a_{2}y_{t-2} +...+ a_{n}y_{t-n}$$\n",
    "\n",
    "We saw earlier that all linear filters have an impulse response, and the simplest way to filter a signal is by convolving the input signal with the filter's impulse response. To find the impulse response of a linear filter, simply feed in an impulse, and see what comes out. The impulse responses of recursive filters are composed of sinusoids that exponentially decay in amplitude. In principle, this makes their impulse responses infinitely long. However, the amplitude eventually drops below the round-off noise of the system, and the remaining samples can be ignored. Because of this, recursive filters are also called <b> infinite impulse response (IIR) </b> filters; in contrast, MA filters are also referred to as <b> finite impulse response (FIR) </b> filters. \n",
    "\n",
    "\n",
    "### 4.3.2 Low-pass filters, high-pass filters, etc.\n",
    "We categorize filters based on what frequencies get filtered out and what don't. A <b>low-pass</b> filter allows lower frequencies to pass through while filtering out higher frequencies. Similarly, a <b>high-pass</b> filter only allows high frequency components to pass through, a <b>band-pass</b> filter let us specify a specific band (an unbroken range of frequencies) to pass through, and a <b>band-reject</b> filter let us specify a specific band (an unbroken range of frequencies) to reject. You sort of get the gist. The set of frequencies that get passed through to the output signal are referred to as <b>pass band</b>, while the frequencies that get filtered out are called <b>stop band</b>.\n",
    "\n",
    "High-pass, bandpass, and band reject filters can all be constructed from an initial low-pass filter. To understand the low-pass to high-pass transform, remember that a delta function impulse response passes the entire signal, while a low-pass impulse response passes only the low-\n",
    "frequency components. By superposition, a filter kernel consisting of a delta function minus the low-pass filter kernel will pass the entire signal minus the low-frequency components. Adding high-pass and low-pass filter kernels produces a band-reject filter, while convolving the filter kernels produces a band-pass filter. Multiple combination of these techniques can also be used. For instance, a band-pass filter can be designed by adding the two filter kernels to form a stop-pass filter, and then using spectral inversion or spectral reversal techniques.\n",
    "\n",
    "<hr>\n",
    "\n",
    "\n",
    "## 4.4 Designing digital filters\n",
    "The single most important step of filtering is the digital filter design, i.e., coming up with the coefficients that make up the filter kernel. There is an insane amount of theory behind digital filter design, none of which I am well-acquainted with. Going forward, we have two main goals for this notebook.\n",
    "1. Developing a boxcar filter to put into practice some of the concepts we just learned (a boxcar filter is very very bad so no one actually uses them in practice)\n",
    "2. Going over scipy.signal filtersto learn how to design digital filters using python.\n",
    "\n",
    "### 4.4.1 Simple boxcar filter example\n",
    "This is the simplest version of a filter. Imagine a boxcar function (rectangular function) in the frequency domain. All frequencies in the input signal within the extent of this rectangle form the pass band; all other input frequencies get filtered out. The implementation is as follows:\n",
    "\n",
    "<b>Step 1.</b> We need some kind of input signal that we want to filter. Below is a a 4 Hz sinusoid with a 100 Hz high frequency component embossed on top. "
   ]
  },
  {
   "cell_type": "code",
   "execution_count": null,
   "metadata": {},
   "outputs": [],
   "source": [
    "## design the signal\n",
    "fs_sine = 200\n",
    "t_sine = arangeT(0,1,fs_sine)\n",
    "s1 = np.sin(2*np.pi*4*t_sine)\n",
    "s2 = np.sin(2*np.pi*50*t_sine)\n",
    "n = np.random.normal(6, 1, fs_sine)\n",
    "s = s1+s2 \n",
    "fig = plt.figure(figsize=(7,5))\n",
    "plt.plot(t_sine,s)\n",
    "\n",
    "## frequency spectrum\n",
    "S = np.fft.fft(s)\n",
    "freq = np.fft.fftfreq(len(s), d=1/fs_sine)\n",
    "\n",
    "## do not FFTshift; we are not trying to make a nice array for plotting\n",
    "## we are trying to manipulate the frequence spectrum\n",
    "# S = np.fft.fftshift(S)\n",
    "# freq = np.fft.fftshift(freq)\n",
    "\n",
    "fig = plt.figure(figsize=(7,5))\n",
    "plt.plot(freq, np.abs(S)/len(s))"
   ]
  },
  {
   "cell_type": "markdown",
   "metadata": {},
   "source": [
    "<b>Step 2.</b> Design the boxcar filter. We will do this in the frequency space. The result is the frequency response of a digital filter.  "
   ]
  },
  {
   "cell_type": "code",
   "execution_count": null,
   "metadata": {},
   "outputs": [],
   "source": [
    "## filter design - frequency response\n",
    "H = np.ones_like(S)\n",
    "H[(freq<-7)|(freq>7)] = 0\n",
    "fig = plt.figure(figsize=(7,5))\n",
    "plt.plot(freq,H)\n",
    "plt.title(\"Frequency response\")\n",
    "\n",
    "## filter design - impulse response\n",
    "h = np.real(np.fft.ifft(H))\n",
    "h = np.concatenate([h[-50:], h[:50]])   ## try commenting this line to see what happens\n",
    "fig = plt.figure(figsize=(7,5))\n",
    "plt.plot(h)\n",
    "plt.title(\"Impulse response\")"
   ]
  },
  {
   "cell_type": "markdown",
   "metadata": {},
   "source": [
    "<b>Step 3.</b> Convolve the impulse response with the input in time domain, or multiply the frequency response with the Fourier transform of the input."
   ]
  },
  {
   "cell_type": "code",
   "execution_count": null,
   "metadata": {},
   "outputs": [],
   "source": [
    "## convolution in time domain\n",
    "y = np.convolve(s, h, mode=\"same\")\n",
    "fig = plt.figure(figsize=(7,5))\n",
    "plt.plot(y)\n",
    "plt.title(\"Filtering in the time domain\")\n",
    "\n",
    "## multiplication in the frequency domain\n",
    "Y = S*H\n",
    "y = np.fft.ifft(Y)\n",
    "fig = plt.figure(figsize=(7,5))\n",
    "plt.plot(y)\n",
    "plt.title(\"Filtering in the frequency domain\")"
   ]
  },
  {
   "cell_type": "markdown",
   "metadata": {},
   "source": [
    "<b> Exercise 1. Repeat the boxcar example above, but with pass band (0-7 Hz) as the stop band and vice versa. Do you see any differences between the results obtained by convolution vs multiplication? </b>\n",
    "\n",
    "Boxcar filters are actually really bad in practice. It is helpful for developing an intuitive understanding of filtering concepts but that's pretty much it. When dealing with discrete (digital) things, sharp oundaries are never good. That's exactly what the boxcar filter has - a sharp frequency cut-off. Digital filters used in the real world are slightly different. The frequency response includes a small <b>transition band</b> in-between pass band and stop band. The figure below shows ideal frequency responses of different filters."
   ]
  },
  {
   "cell_type": "markdown",
   "metadata": {},
   "source": [
    "### 4.4.2 Filter design using scipy.filter\n",
    "Designing digital filters is made very simple by the use of Python's scipy library. <a href=\"https://docs.scipy.org/doc/scipy/reference/signal.html\"> scipy.signal </a> has a whole array of functions under the Filter Design section that can be used to construct filters. \n",
    "\n",
    "Below, is an example of a low-pass filter using scipy. Designing these filters is very simple. All we need to do is define the filter order (we talked a little bit about this in section 4.2), the cut-off frequency, and the window length.\n",
    "\n",
    "![TransitionBand](tr_band.png)"
   ]
  },
  {
   "cell_type": "code",
   "execution_count": null,
   "metadata": {},
   "outputs": [],
   "source": [
    "from pylab import *\n",
    "import scipy.signal as signal\n",
    "\n",
    "#Plot frequency and phase response\n",
    "def mfreqz(b,a=1):\n",
    "    w,h = signal.freqz(b,a)\n",
    "    h_dB = 20 * log10 (abs(h))\n",
    "    subplot(211)\n",
    "    plot(w/max(w),h_dB)\n",
    "    ylim(-150, 5)\n",
    "    ylabel('Magnitude (db)')\n",
    "    xlabel(r'Normalized Frequency (x$\\pi$rad/sample)')\n",
    "    title(r'Frequency response')\n",
    "    subplot(212)\n",
    "    h_Phase = unwrap(arctan2(imag(h),real(h)))\n",
    "    plot(w/max(w),h_Phase)\n",
    "    ylabel('Phase (radians)')\n",
    "    xlabel(r'Normalized Frequency (x$\\pi$rad/sample)')\n",
    "    title(r'Phase response')\n",
    "    subplots_adjust(hspace=0.5)\n",
    "\n",
    "#Plot step and impulse response\n",
    "def impz(b,a=1):\n",
    "    l = len(b)\n",
    "    impulse = repeat(0.,l); impulse[0] =1.\n",
    "    x = arange(0,l)\n",
    "    response = signal.lfilter(b,a,impulse)\n",
    "    subplot(211)\n",
    "    stem(x, response)\n",
    "    ylabel('Amplitude')\n",
    "    xlabel(r'n (samples)')\n",
    "    title(r'Impulse response')\n",
    "    subplot(212)\n",
    "    step = cumsum(response)\n",
    "    stem(x, step)\n",
    "    ylabel('Amplitude')\n",
    "    xlabel(r'n (samples)')\n",
    "    title(r'Step response')\n",
    "    subplots_adjust(hspace=0.5)"
   ]
  },
  {
   "cell_type": "code",
   "execution_count": null,
   "metadata": {},
   "outputs": [],
   "source": [
    "n = 11\n",
    "\n",
    "## lowpass filter\n",
    "lp = signal.firwin(n, cutoff = 7, fs=200)\n",
    "hp = signal.firwin(n, cutoff = 7, fs=200, pass_zero=True) ## or use pass_zero='highpass'\n",
    "bp = signal.firwin(n, cutoff = [18,20], fs=200, pass_zero = False)\n",
    "#Frequency and phase response\n",
    "mfreqz(a)\n",
    "show()"
   ]
  },
  {
   "cell_type": "code",
   "execution_count": null,
   "metadata": {},
   "outputs": [],
   "source": [
    "## frequency responses of filters\n",
    "w,h = signal.freqz(bp,a=1)\n",
    "h_dB = 20 * log10 (abs(h))\n",
    "fig = plt.figure(figsize=(7,5))\n",
    "plt.plot(w/max(w),h)\n",
    "plt.ylabel('Magnitude in dB')\n",
    "plt.xlabel('Frequency')\n",
    "plt.title(\"Frequency response\")"
   ]
  },
  {
   "cell_type": "markdown",
   "metadata": {},
   "source": [
    "<b> Exercise 2. This isn't a clearly defined exercise. It's more of a suggestion to explore a few things. 1) Convolve the the low-pass and high-pass filters with sinusoid from the previous exercise to extract the low and high frequency components. 2) If you have any noisy data (1D or 2D), try using a MA filter to get rid of random noise in the data. The ideal exercise would be to try filtering noisy data but unfortunately I did not have time to find data or practice with it beforehand (apologies). If anyone has interesting examples to work with, please share. 3) Try out the other filters in the scipy.signal filter design.  </b>\n"
   ]
  },
  {
   "cell_type": "markdown",
   "metadata": {},
   "source": [
    "## References\n",
    "1. The Scientist and Engineer's Guide to Digital Signal Processing (http://www.dspguide.com/)"
   ]
  },
  {
   "cell_type": "code",
   "execution_count": null,
   "metadata": {},
   "outputs": [],
   "source": []
  }
 ],
 "metadata": {
  "kernelspec": {
   "display_name": "Python 3",
   "language": "python",
   "name": "python3"
  },
  "language_info": {
   "codemirror_mode": {
    "name": "ipython",
    "version": 3
   },
   "file_extension": ".py",
   "mimetype": "text/x-python",
   "name": "python",
   "nbconvert_exporter": "python",
   "pygments_lexer": "ipython3",
   "version": "3.7.4"
  }
 },
 "nbformat": 4,
 "nbformat_minor": 4
}
