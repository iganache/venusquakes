{
 "cells": [
  {
   "cell_type": "code",
   "execution_count": 2,
   "id": "0a05ea03-4f62-49b9-a3de-e04d3f12656b",
   "metadata": {},
   "outputs": [],
   "source": [
    "import numpy as np\n",
    "import matplotlib.pyplot as plt\n",
    "import obspy\n",
    "import matplotlib.pyplot as plt\n",
    "\n",
    "## setting client\n",
    "from obspy.clients.fdsn import Client\n",
    "client = Client(\"IRIS\")"
   ]
  },
  {
   "cell_type": "code",
   "execution_count": 7,
   "id": "aef41171-6b77-4617-a7fc-e66fbfc84727",
   "metadata": {},
   "outputs": [],
   "source": [
    "cat = obspy.read_events(\"http://ds.iris.edu/files/insight/v11/events_extended_multiorigin_v11_2022-04-01.xml\", format=\"QUAKEML\")"
   ]
  },
  {
   "cell_type": "code",
   "execution_count": 67,
   "id": "0301f9a7-4c62-4b71-b2a5-40a413375e09",
   "metadata": {},
   "outputs": [
    {
     "name": "stdout",
     "output_type": "stream",
     "text": [
      "2691\n",
      "Event:\t2022-03-30T20:03:12.767000Z |  +4.502, +135.623 | automatic\n",
      "\n",
      "\t          resource_id: ResourceIdentifier(id=\"smi:insight.mqs/Event/20220502-122318/8b14a8c8\")\n",
      "\t           event_type: 'other event'\n",
      "\t event_type_certainty: 'suspected'\n",
      "\t        creation_info: CreationInfo(agency_id='mqs', author='SF_automatic', creation_time=UTCDateTime(2022, 5, 2, 12, 23, 18, 522795))\n",
      "\t  preferred_origin_id: ResourceIdentifier(id=\"smi:insight.mqs/Origin/20220502-122318/d4d0065b\")\n",
      "\t                 ---------\n",
      "\t   event_descriptions: 1 Elements\n",
      "\t                picks: 4 Elements\n",
      "\t              origins: 1 Elements\n"
     ]
    }
   ],
   "source": [
    "print(cat.count())\n",
    "print(cat.events[0])"
   ]
  },
  {
   "cell_type": "code",
   "execution_count": 27,
   "id": "98241596-9ed4-469b-b1f5-d57e9f298621",
   "metadata": {},
   "outputs": [
    {
     "name": "stdout",
     "output_type": "stream",
     "text": [
      "6\n"
     ]
    }
   ],
   "source": [
    "cat2 = cat.filter(\"magnitude >= 4.0\")\n",
    "print(cat2.count())"
   ]
  },
  {
   "cell_type": "code",
   "execution_count": 94,
   "id": "788600f4-5d70-4579-a92f-957291ac2569",
   "metadata": {},
   "outputs": [
    {
     "name": "stdout",
     "output_type": "stream",
     "text": [
      "2.1\n"
     ]
    }
   ],
   "source": [
    "print(cat2.events[2].magnitudes[2].mag)"
   ]
  },
  {
   "cell_type": "code",
   "execution_count": 42,
   "id": "4cd7afad-e5a7-46f7-80a9-dabfc8a5d972",
   "metadata": {},
   "outputs": [],
   "source": [
    "cat_1year = cat.filter(\"time > 2021-03-31T00:00:00\", \"time < 2022-03-31T00:00:00\")\n",
    "print"
   ]
  },
  {
   "cell_type": "code",
   "execution_count": 98,
   "id": "aad7abd4-3364-4e4c-ab28-bd1e8f320749",
   "metadata": {},
   "outputs": [],
   "source": [
    "mw_list = []\n",
    "m0_list = []\n",
    "for event in cat_1year.events:\n",
    "    for magnitude in event.magnitudes:\n",
    "        if magnitude.magnitude_type == \"MW\":\n",
    "            mw = magnitude.mag\n",
    "            m0 = np.power(10, (1.5 * mw + 9.1))\n",
    "            mw_list.append(mw)\n",
    "            m0_list.append(m0)"
   ]
  },
  {
   "cell_type": "code",
   "execution_count": 107,
   "id": "715b8443-5219-44f8-ade7-80250f415ec5",
   "metadata": {},
   "outputs": [
    {
     "name": "stdout",
     "output_type": "stream",
     "text": [
      "2511886431509582.0\n"
     ]
    }
   ],
   "source": [
    "mom_mag = np.zeros((2,len(mw_list)))\n",
    "mom_mag[0] = np.array(mw_list)\n",
    "mom_mag[1] = np.array(m0_list)\n",
    "\n",
    "print(np.nanmax(mom_mag[1]))"
   ]
  },
  {
   "cell_type": "code",
   "execution_count": 133,
   "id": "e4709f2e-656e-4da8-b6d0-a0a85ee299d1",
   "metadata": {},
   "outputs": [
    {
     "name": "stdout",
     "output_type": "stream",
     "text": [
      "113\n"
     ]
    }
   ],
   "source": [
    "mom_x = np.array([10e10, 10e11, 10e12, 10e13, 10e14, 10e15, 10e16, 10e17, 10e18, 10e19, 10e20, 10e21, 10e22, 10e23])\n",
    "\n",
    "mom = mom_mag[1]\n",
    "a = len(mom[mom > 10e11])\n",
    "print(a)"
   ]
  },
  {
   "cell_type": "code",
   "execution_count": 46,
   "id": "09bef607-2a91-4cbe-b0d4-1a849b8b970f",
   "metadata": {},
   "outputs": [],
   "source": [
    "N_m = [cat0.count(), cat1.count(), cat2.count(), cat3.count(), cat4.count(), cat5.count(), cat6.count(), cat7.count()]"
   ]
  },
  {
   "cell_type": "code",
   "execution_count": 52,
   "id": "3e213268-f98d-49ab-9adf-99501bac6c04",
   "metadata": {},
   "outputs": [
    {
     "data": {
      "image/png": "[encoded data removed]",
      "text/plain": [
       "<Figure size 400x400 with 1 Axes>"
      ]
     },
     "metadata": {},
     "output_type": "display_data"
    }
   ],
   "source": [
    "fig, ax = plt.subplots(1,1, figsize=(4,4))\n",
    "ax.plot(range(8), N_m)\n",
    "plt.show()"
   ]
  },
  {
   "cell_type": "code",
   "execution_count": null,
   "id": "54e0e51e-b723-4529-815f-45d593f2102e",
   "metadata": {},
   "outputs": [],
   "source": []
  }
 ],
 "metadata": {
  "kernelspec": {
   "display_name": "seis",
   "language": "python",
   "name": "seis"
  },
  "language_info": {
   "codemirror_mode": {
    "name": "ipython",
    "version": 3
   },
   "file_extension": ".py",
   "mimetype": "text/x-python",
   "name": "python",
   "nbconvert_exporter": "python",
   "pygments_lexer": "ipython3",
   "version": "3.9.13"
  }
 },
 "nbformat": 4,
 "nbformat_minor": 5
}
